{
 "cells": [
  {
   "cell_type": "code",
   "execution_count": null,
   "metadata": {},
   "outputs": [],
   "source": [
    "import logging\n",
    "import json\n",
    "\n",
    "# Configure logging\n",
    "logger = logging.getLogger()\n",
    "logger.setLevel(logging.INFO)  # Default log level\n",
    "\n",
    "def lambda_handler(event, context):\n",
    "    # Sample Logs with Different Severities\n",
    "    logger.info(\"INFO: Lambda function started successfully.\")\n",
    "\n",
    "    try:\n",
    "        value = event.get(\"value\", 0)\n",
    "        if value < 0:\n",
    "            logger.warning(\"WARNING: Received a negative value, might cause unexpected behavior.\")\n",
    "        \n",
    "        if value == 0:\n",
    "            raise ValueError(\"ERROR: Value cannot be zero!\")\n",
    "\n",
    "        if value > 100:\n",
    "            logger.critical(\"CRITICAL: Value exceeds threshold! Immediate attention required!\")\n",
    "\n",
    "        return {\n",
    "            \"statusCode\": 200,\n",
    "            \"body\": json.dumps({\"message\": \"Lambda executed successfully!\"})\n",
    "        }\n",
    "    \n",
    "    except ValueError as e:\n",
    "        logger.error(f\"ERROR: {str(e)}\")\n",
    "        return {\n",
    "            \"statusCode\": 400,\n",
    "            \"body\": json.dumps({\"error\": str(e)})\n",
    "        }\n"
   ]
  }
 ],
 "metadata": {
  "language_info": {
   "name": "python"
  }
 },
 "nbformat": 4,
 "nbformat_minor": 2
}
