{
 "cells": [
  {
   "cell_type": "code",
   "execution_count": 17,
   "metadata": {},
   "outputs": [
    {
     "name": "stderr",
     "output_type": "stream",
     "text": [
      "c:\\Users\\dhire\\miniconda3\\envs\\python3126\\Lib\\site-packages\\pydantic\\_internal\\_fields.py:132: UserWarning: Field \"model_arn\" in BedrockRerank has conflict with protected namespace \"model_\".\n",
      "\n",
      "You may be able to resolve this warning by setting `model_config['protected_namespaces'] = ()`.\n",
      "  warnings.warn(\n"
     ]
    }
   ],
   "source": [
    "from langgraph.graph import StateGraph\n",
    "#from langchain.llms import Bedrock\n",
    "from langchain_community.chat_models import BedrockChat\n",
    "from langchain_community.llms import Bedrock\n",
    "from langchain_aws import BedrockLLM\n",
    "\n",
    "import boto3\n",
    "import json\n",
    "\n",
    "import os\n",
    "from dotenv import load_dotenv\n",
    "\n",
    "load_dotenv()\n",
    "os.environ[\"AWS_ACCESS_KEY_ID\"]=os.getenv(\"AWS_ACCESS_KEY_ID\")\n",
    "os.environ[\"AWS_SECRET_ACCESS_KEY\"]=os.getenv(\"AWS_SECRET_ACCESS_KEY\")\n",
    "os.environ[\"AWS_REGION\"]=os.getenv(\"AWS_REGION\")\n",
    "\n",
    "# Initialize AWS Clients\n",
    "sns_client = boto3.client(\"sns\")\n",
    "s3_client = boto3.client(\"s3\")\n",
    "logs_client = boto3.client(\"logs\")\n",
    "log_group_name = \"arn:aws:logs:us-east-1:050451365316:log-group:/aws/lambda/test1:*\"\n",
    "\n",
    "# Amazon Titan Model\n",
    "llm = BedrockLLM(\n",
    "    model_id=\"amazon.titan-text-express-v1\",\n",
    "    client=boto3.client(service_name=\"bedrock-runtime\")\n",
    ")"
   ]
  },
  {
   "cell_type": "code",
   "execution_count": 11,
   "metadata": {},
   "outputs": [],
   "source": [
    "# Step 1: Read CloudWatch Logs\n",
    "def read_cloudwatch_logs():\n",
    "    response = logs_client.describe_log_streams(logGroupName=\"/aws/lambda/your_lambda_function\")\n",
    "    log_streams = response.get(\"logStreams\", [])\n",
    "    \n",
    "    if log_streams:\n",
    "        log_stream_name = log_streams[-1][\"logStreamName\"]\n",
    "        log_events = logs_client.get_log_events(\n",
    "            logGroupName=\"/aws/lambda/your_lambda_function\",\n",
    "            logStreamName=log_stream_name\n",
    "        )\n",
    "        logs = [event[\"message\"] for event in log_events[\"events\"]]\n",
    "        return \"\\n\".join(logs)\n",
    "    return \"No logs found.\""
   ]
  },
  {
   "cell_type": "code",
   "execution_count": 12,
   "metadata": {},
   "outputs": [],
   "source": [
    "# Step 2: Process Logs with LLM\n",
    "def process_logs(logs):\n",
    "    prompt = f\"\"\"Analyze the following CloudWatch logs and categorize errors as Critical, Warning, or Info. \n",
    "    Provide a summary of the errors found. Logs:\n",
    "    {logs}\"\"\"\n",
    "    response = llm.generate(prompt)\n",
    "    return response"
   ]
  },
  {
   "cell_type": "code",
   "execution_count": 13,
   "metadata": {},
   "outputs": [],
   "source": [
    "# Step 3: Store Logs in S3\n",
    "def store_logs_in_s3(logs):\n",
    "    bucket_name = \"your-log-bucket\"\n",
    "    file_name = \"processed_logs.json\"\n",
    "    s3_client.put_object(Bucket=bucket_name, Key=file_name, Body=json.dumps({\"logs\": logs}))\n",
    "    return f\"https://s3.amazonaws.com/{bucket_name}/{file_name}\""
   ]
  },
  {
   "cell_type": "code",
   "execution_count": 7,
   "metadata": {},
   "outputs": [],
   "source": [
    "# Step 4: Send SNS Notification\n",
    "def send_sns_notification(summary, s3_link):\n",
    "    message = f\"CloudWatch Error Summary:\\n{summary}\\n\\nFull logs: {s3_link}\"\n",
    "    sns_client.publish(TopicArn=\"your-sns-topic-arn\", Message=message, Subject=\"AWS Lambda Error Notification\")"
   ]
  },
  {
   "cell_type": "code",
   "execution_count": 14,
   "metadata": {},
   "outputs": [
    {
     "ename": "NameError",
     "evalue": "name 'WorkflowState' is not defined",
     "output_type": "error",
     "traceback": [
      "\u001b[1;31m---------------------------------------------------------------------------\u001b[0m",
      "\u001b[1;31mNameError\u001b[0m                                 Traceback (most recent call last)",
      "Cell \u001b[1;32mIn[14], line 2\u001b[0m\n\u001b[0;32m      1\u001b[0m \u001b[38;5;66;03m# Define Graph Workflow\u001b[39;00m\n\u001b[1;32m----> 2\u001b[0m graph \u001b[38;5;241m=\u001b[39m StateGraph(\u001b[43mWorkflowState\u001b[49m)\n\u001b[0;32m      3\u001b[0m graph\u001b[38;5;241m.\u001b[39madd_node(\u001b[38;5;124m\"\u001b[39m\u001b[38;5;124mread_logs\u001b[39m\u001b[38;5;124m\"\u001b[39m, read_cloudwatch_logs)\n\u001b[0;32m      4\u001b[0m graph\u001b[38;5;241m.\u001b[39madd_node(\u001b[38;5;124m\"\u001b[39m\u001b[38;5;124mprocess_logs\u001b[39m\u001b[38;5;124m\"\u001b[39m, process_logs)\n",
      "\u001b[1;31mNameError\u001b[0m: name 'WorkflowState' is not defined"
     ]
    }
   ],
   "source": [
    "# Define Graph Workflow\n",
    "graph = StateGraph(WorkflowState)\n",
    "graph.add_node(\"read_logs\", read_cloudwatch_logs)\n",
    "graph.add_node(\"process_logs\", process_logs)\n",
    "graph.add_node(\"store_logs\", store_logs_in_s3)\n",
    "graph.add_node(\"send_notification\", send_sns_notification)\n",
    "\n",
    "graph.add_edge(\"read_logs\", \"process_logs\")\n",
    "graph.add_edge(\"process_logs\", \"store_logs\")\n",
    "graph.add_edge(\"store_logs\", \"send_notification\")\n",
    "\n",
    "graph.set_entry_point(\"read_logs\")\n",
    "workflow = graph.compile()\n",
    "\n",
    "\n",
    "from IPython.display import Image, display\n",
    "display(Image(workflow.get_graph().draw_mermaid_png()))\n",
    "\n",
    "\n",
    "# Run the Workflow\n",
    "workflow.invoke({\"log_group_name\": \"/aws/lambda/test1\", \"logs\": \"\", \"processed_logs\": \"\", \"s3_link\": \"\"})"
   ]
  }
 ],
 "metadata": {
  "kernelspec": {
   "display_name": "python3126",
   "language": "python",
   "name": "python3"
  },
  "language_info": {
   "codemirror_mode": {
    "name": "ipython",
    "version": 3
   },
   "file_extension": ".py",
   "mimetype": "text/x-python",
   "name": "python",
   "nbconvert_exporter": "python",
   "pygments_lexer": "ipython3",
   "version": "3.12.7"
  }
 },
 "nbformat": 4,
 "nbformat_minor": 2
}
